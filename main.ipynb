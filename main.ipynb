{
 "cells": [
  {
   "cell_type": "markdown",
   "metadata": {},
   "source": [
    "# Predict the stock movement\n",
    "\n",
    "## 大綱\n",
    "* 預測目標\n",
    "* 套件\n",
    "* 預處理\n",
    "* 訓練\n",
    "    * Logistic Regression\n",
    "    * NN\n",
    "    * Decision tree\n",
    "* 驗證與結果\n",
    "* 討論\n",
    "\n",
    "## 預測目標\n",
    "* 根據四天的交易日的收盤價漲跌與成交量下降和增加，來預測第五天的股票收盤價是漲還是跌。\n",
    "\n",
    "## 套件\n",
    "* PyTorch : version 1.3.0\n",
    "* numpy\n",
    "* matplotlib\n",
    "* pandas\n",
    "* scikit-learn"
   ]
  },
  {
   "cell_type": "code",
   "execution_count": 1,
   "metadata": {},
   "outputs": [
    {
     "name": "stderr",
     "output_type": "stream",
     "text": [
      "/home/arielwu/.local/lib/python3.7/site-packages/pandas/compat/__init__.py:117: UserWarning: Could not import the lzma module. Your installed Python is incomplete. Attempting to use lzma compression will result in a RuntimeError.\n",
      "  warnings.warn(msg)\n"
     ]
    }
   ],
   "source": [
    "# 匯入 PyTorch 套件\n",
    "# 在 python 中的介面名稱為 torch\n",
    "import torch\n",
    "from torch import tensor\n",
    "from torch import nn\n",
    "from torch import sigmoid\n",
    "import torch.nn.functional as F\n",
    "import torch.optim as optim\n",
    "# 匯入 numpy, matplotlib, pandas\n",
    "import numpy as np\n",
    "import matplotlib.pyplot as plt\n",
    "import pandas as pd"
   ]
  },
  {
   "cell_type": "markdown",
   "metadata": {},
   "source": [
    "## 預處理\n",
    "* 沒有缺失資料\n",
    "* Open Price, Close Price, High Price, Low Price 成長趨勢相似，所以我只選擇一種當輸入參數--Close Price\n",
    "* 成交量也當作數入參數\n",
    "* 因為數字的浮動變化太大，且預測目標為以後的股票漲跌趨勢，所以我認為要用相對於基準點的漲跌當作數入參數。\n",
    "    * 漲與增加: 1 跌與減少: 0\n",
    "    * close_one:   相對於一天的 Close Price\n",
    "    * close_two:   相對於兩天的 Close Price\n",
    "    * close_three: 相對於三天的 Close Price\n",
    "    * close_four:  相對於四天的 Close Price\n",
    "    * volume_one:  相對於一天的 Volume Price\n",
    "    * volume_two:  相對於兩天的 Volume Price\n",
    "    * volume_three:相對於三天的 Volume Price\n",
    "    * volume_four: 相對於四天的 Volume Price\n",
    "* 輸出參數: 五天後的漲跌--outcome"
   ]
  },
  {
   "cell_type": "code",
   "execution_count": 2,
   "metadata": {},
   "outputs": [
    {
     "data": {
      "text/html": [
       "<div>\n",
       "<style scoped>\n",
       "    .dataframe tbody tr th:only-of-type {\n",
       "        vertical-align: middle;\n",
       "    }\n",
       "\n",
       "    .dataframe tbody tr th {\n",
       "        vertical-align: top;\n",
       "    }\n",
       "\n",
       "    .dataframe thead th {\n",
       "        text-align: right;\n",
       "    }\n",
       "</style>\n",
       "<table border=\"1\" class=\"dataframe\">\n",
       "  <thead>\n",
       "    <tr style=\"text-align: right;\">\n",
       "      <th></th>\n",
       "      <th>Open Price</th>\n",
       "      <th>Close Price</th>\n",
       "      <th>High Price</th>\n",
       "      <th>Low Price</th>\n",
       "      <th>Volume</th>\n",
       "    </tr>\n",
       "  </thead>\n",
       "  <tbody>\n",
       "    <tr>\n",
       "      <th>count</th>\n",
       "      <td>2264.000000</td>\n",
       "      <td>2264.000000</td>\n",
       "      <td>2264.000000</td>\n",
       "      <td>2264.000000</td>\n",
       "      <td>2.264000e+03</td>\n",
       "    </tr>\n",
       "    <tr>\n",
       "      <th>mean</th>\n",
       "      <td>1656.142686</td>\n",
       "      <td>1656.767562</td>\n",
       "      <td>1664.427054</td>\n",
       "      <td>1647.425128</td>\n",
       "      <td>2.948755e+09</td>\n",
       "    </tr>\n",
       "    <tr>\n",
       "      <th>std</th>\n",
       "      <td>485.292193</td>\n",
       "      <td>485.226120</td>\n",
       "      <td>484.808706</td>\n",
       "      <td>485.576116</td>\n",
       "      <td>1.351675e+09</td>\n",
       "    </tr>\n",
       "    <tr>\n",
       "      <th>min</th>\n",
       "      <td>679.280000</td>\n",
       "      <td>676.530000</td>\n",
       "      <td>695.270000</td>\n",
       "      <td>666.790000</td>\n",
       "      <td>5.181584e+08</td>\n",
       "    </tr>\n",
       "    <tr>\n",
       "      <th>25%</th>\n",
       "      <td>1238.602500</td>\n",
       "      <td>1239.337500</td>\n",
       "      <td>1246.695000</td>\n",
       "      <td>1227.587500</td>\n",
       "      <td>2.048980e+09</td>\n",
       "    </tr>\n",
       "    <tr>\n",
       "      <th>50%</th>\n",
       "      <td>1649.135000</td>\n",
       "      <td>1650.405000</td>\n",
       "      <td>1656.145000</td>\n",
       "      <td>1639.600000</td>\n",
       "      <td>2.506637e+09</td>\n",
       "    </tr>\n",
       "    <tr>\n",
       "      <th>75%</th>\n",
       "      <td>2070.300000</td>\n",
       "      <td>2071.190000</td>\n",
       "      <td>2079.507500</td>\n",
       "      <td>2058.757500</td>\n",
       "      <td>3.373334e+09</td>\n",
       "    </tr>\n",
       "    <tr>\n",
       "      <th>max</th>\n",
       "      <td>2692.710000</td>\n",
       "      <td>2690.160000</td>\n",
       "      <td>2694.970000</td>\n",
       "      <td>2685.920000</td>\n",
       "      <td>9.120100e+09</td>\n",
       "    </tr>\n",
       "  </tbody>\n",
       "</table>\n",
       "</div>"
      ],
      "text/plain": [
       "        Open Price  Close Price   High Price    Low Price        Volume\n",
       "count  2264.000000  2264.000000  2264.000000  2264.000000  2.264000e+03\n",
       "mean   1656.142686  1656.767562  1664.427054  1647.425128  2.948755e+09\n",
       "std     485.292193   485.226120   484.808706   485.576116  1.351675e+09\n",
       "min     679.280000   676.530000   695.270000   666.790000  5.181584e+08\n",
       "25%    1238.602500  1239.337500  1246.695000  1227.587500  2.048980e+09\n",
       "50%    1649.135000  1650.405000  1656.145000  1639.600000  2.506637e+09\n",
       "75%    2070.300000  2071.190000  2079.507500  2058.757500  3.373334e+09\n",
       "max    2692.710000  2690.160000  2694.970000  2685.920000  9.120100e+09"
      ]
     },
     "execution_count": 2,
     "metadata": {},
     "output_type": "execute_result"
    }
   ],
   "source": [
    "train_df = pd.read_csv('stock_train.csv') # 讀取訓練資料\n",
    "train_df.describe()\n",
    "# 可知道沒有缺失資料"
   ]
  },
  {
   "cell_type": "code",
   "execution_count": 3,
   "metadata": {},
   "outputs": [
    {
     "data": {
      "text/html": [
       "<div>\n",
       "<style scoped>\n",
       "    .dataframe tbody tr th:only-of-type {\n",
       "        vertical-align: middle;\n",
       "    }\n",
       "\n",
       "    .dataframe tbody tr th {\n",
       "        vertical-align: top;\n",
       "    }\n",
       "\n",
       "    .dataframe thead th {\n",
       "        text-align: right;\n",
       "    }\n",
       "</style>\n",
       "<table border=\"1\" class=\"dataframe\">\n",
       "  <thead>\n",
       "    <tr style=\"text-align: right;\">\n",
       "      <th></th>\n",
       "      <th>Open Price</th>\n",
       "      <th>Close Price</th>\n",
       "      <th>High Price</th>\n",
       "      <th>Low Price</th>\n",
       "      <th>Volume</th>\n",
       "    </tr>\n",
       "  </thead>\n",
       "  <tbody>\n",
       "    <tr>\n",
       "      <th>count</th>\n",
       "      <td>252.000000</td>\n",
       "      <td>252.000000</td>\n",
       "      <td>252.000000</td>\n",
       "      <td>252.000000</td>\n",
       "      <td>2.520000e+02</td>\n",
       "    </tr>\n",
       "    <tr>\n",
       "      <th>mean</th>\n",
       "      <td>2747.910397</td>\n",
       "      <td>2746.030873</td>\n",
       "      <td>2762.747778</td>\n",
       "      <td>2730.143929</td>\n",
       "      <td>2.154050e+09</td>\n",
       "    </tr>\n",
       "    <tr>\n",
       "      <th>std</th>\n",
       "      <td>99.017479</td>\n",
       "      <td>100.251272</td>\n",
       "      <td>92.991345</td>\n",
       "      <td>106.490954</td>\n",
       "      <td>4.538626e+08</td>\n",
       "    </tr>\n",
       "    <tr>\n",
       "      <th>min</th>\n",
       "      <td>2363.120000</td>\n",
       "      <td>2351.100000</td>\n",
       "      <td>2410.340000</td>\n",
       "      <td>2346.580000</td>\n",
       "      <td>9.516523e+08</td>\n",
       "    </tr>\n",
       "    <tr>\n",
       "      <th>25%</th>\n",
       "      <td>2689.465000</td>\n",
       "      <td>2690.512500</td>\n",
       "      <td>2705.847500</td>\n",
       "      <td>2663.677500</td>\n",
       "      <td>1.879841e+09</td>\n",
       "    </tr>\n",
       "    <tr>\n",
       "      <th>50%</th>\n",
       "      <td>2742.170000</td>\n",
       "      <td>2741.920000</td>\n",
       "      <td>2755.575000</td>\n",
       "      <td>2725.290000</td>\n",
       "      <td>2.063820e+09</td>\n",
       "    </tr>\n",
       "    <tr>\n",
       "      <th>75%</th>\n",
       "      <td>2811.430000</td>\n",
       "      <td>2814.322500</td>\n",
       "      <td>2824.802500</td>\n",
       "      <td>2800.630000</td>\n",
       "      <td>2.341078e+09</td>\n",
       "    </tr>\n",
       "    <tr>\n",
       "      <th>max</th>\n",
       "      <td>2936.760000</td>\n",
       "      <td>2930.750000</td>\n",
       "      <td>2940.910000</td>\n",
       "      <td>2927.110000</td>\n",
       "      <td>4.560164e+09</td>\n",
       "    </tr>\n",
       "  </tbody>\n",
       "</table>\n",
       "</div>"
      ],
      "text/plain": [
       "        Open Price  Close Price   High Price    Low Price        Volume\n",
       "count   252.000000   252.000000   252.000000   252.000000  2.520000e+02\n",
       "mean   2747.910397  2746.030873  2762.747778  2730.143929  2.154050e+09\n",
       "std      99.017479   100.251272    92.991345   106.490954  4.538626e+08\n",
       "min    2363.120000  2351.100000  2410.340000  2346.580000  9.516523e+08\n",
       "25%    2689.465000  2690.512500  2705.847500  2663.677500  1.879841e+09\n",
       "50%    2742.170000  2741.920000  2755.575000  2725.290000  2.063820e+09\n",
       "75%    2811.430000  2814.322500  2824.802500  2800.630000  2.341078e+09\n",
       "max    2936.760000  2930.750000  2940.910000  2927.110000  4.560164e+09"
      ]
     },
     "execution_count": 3,
     "metadata": {},
     "output_type": "execute_result"
    }
   ],
   "source": [
    "test_df = pd.read_csv('stock_test.csv')\n",
    "test_df.describe()\n",
    "# 可知道沒有缺失資料"
   ]
  },
  {
   "cell_type": "code",
   "execution_count": 4,
   "metadata": {
    "scrolled": true
   },
   "outputs": [
    {
     "data": {
      "text/plain": [
       "<matplotlib.axes._subplots.AxesSubplot at 0x7f29e08745f8>"
      ]
     },
     "execution_count": 4,
     "metadata": {},
     "output_type": "execute_result"
    },
    {
     "data": {
      "image/png": "[encoded data removed]",
      "text/plain": [
       "<Figure size 432x288 with 1 Axes>"
      ]
     },
     "metadata": {
      "needs_background": "light"
     },
     "output_type": "display_data"
    },
    {
     "data": {
      "image/png": "[encoded data removed]",
      "text/plain": [
       "<Figure size 432x288 with 1 Axes>"
      ]
     },
     "metadata": {
      "needs_background": "light"
     },
     "output_type": "display_data"
    }
   ],
   "source": [
    "ax=train_df.plot('Date','Open Price')\n",
    "ax=train_df.plot('Date','Close Price',ax=ax)\n",
    "ax=train_df.plot('Date','High Price',ax=ax)\n",
    "train_df.plot('Date','Low Price',ax=ax)\n",
    "train_df.plot('Date','Volume')"
   ]
  },
  {
   "cell_type": "code",
   "execution_count": 5,
   "metadata": {},
   "outputs": [],
   "source": [
    "# train dataset\n",
    "train_x = pd.DataFrame(np.zeros(18072).reshape((2259,8)),columns=['close_one','close_two','close_three','close_four','volume_one','volume_two','volume_three','volume_four'])\n",
    "train_y = pd.DataFrame(np.zeros(2259).reshape((2259,1)),columns=['close_five'])\n",
    "for i in range(0,len(train_df)-5):\n",
    "    a = 1 if (train_df.iloc[i,2]<train_df.iloc[i+1, 2]) else 0\n",
    "    b = 1 if (train_df.iloc[i,2]<train_df.iloc[i+2, 2]) else 0\n",
    "    c = 1 if (train_df.iloc[i,2]<train_df.iloc[i+3, 2]) else 0\n",
    "    d = 1 if (train_df.iloc[i,2]<train_df.iloc[i+4, 2]) else 0\n",
    "    A = 1 if (train_df.iloc[i,5]<train_df.iloc[i+1, 5]) else 0\n",
    "    B = 1 if (train_df.iloc[i,5]<train_df.iloc[i+2, 5]) else 0\n",
    "    C = 1 if (train_df.iloc[i,5]<train_df.iloc[i+3, 5]) else 0\n",
    "    D = 1 if (train_df.iloc[i,5]<train_df.iloc[i+4, 5]) else 0\n",
    "    E = 1 if (train_df.iloc[i,2]<train_df.iloc[i+5, 2]) else 0\n",
    "    train_x.iloc[i] = [a,b,c,d,A,B,C,D]\n",
    "    train_y.iloc[i] = [E]\n",
    "train_x = torch.from_numpy(train_x.values)\n",
    "train_y = torch.from_numpy(train_y.values)"
   ]
  },
  {
   "cell_type": "code",
   "execution_count": 6,
   "metadata": {},
   "outputs": [],
   "source": [
    "# test dataset\n",
    "test_x = pd.DataFrame(np.zeros(1976).reshape((247,8)),columns=['close_one','close_two','close_three','close_four','volume_one','volume_two','volume_three','volume_four'])\n",
    "test_y = pd.DataFrame(np.zeros(247).reshape((247,1)),columns=['close_five'])\n",
    "for i in range(0,len(test_df)-5):\n",
    "    a = 1 if (test_df.iloc[i,2]<test_df.iloc[i+1, 2]) else 0\n",
    "    b = 1 if (test_df.iloc[i,2]<test_df.iloc[i+2, 2]) else 0\n",
    "    c = 1 if (test_df.iloc[i,2]<test_df.iloc[i+3, 2]) else 0\n",
    "    d = 1 if (test_df.iloc[i,2]<test_df.iloc[i+4, 2]) else 0\n",
    "    A = 1 if (test_df.iloc[i,5]<test_df.iloc[i+1, 5]) else 0\n",
    "    B = 1 if (test_df.iloc[i,5]<test_df.iloc[i+2, 5]) else 0\n",
    "    C = 1 if (test_df.iloc[i,5]<test_df.iloc[i+3, 5]) else 0\n",
    "    D = 1 if (test_df.iloc[i,5]<test_df.iloc[i+4, 5]) else 0\n",
    "    E = 1 if (test_df.iloc[i,2]<test_df.iloc[i+5, 2]) else 0\n",
    "    test_x.iloc[i] = [a,b,c,d,A,B,C,D]\n",
    "    test_y.iloc[i] = [E]\n",
    "test_x = torch.from_numpy(test_x.values)\n",
    "test_y = torch.from_numpy(test_y.values)"
   ]
  },
  {
   "cell_type": "markdown",
   "metadata": {},
   "source": [
    "## Logistic Regression\n",
    "* epoch 數: 100 次\n",
    "* batch_size : 100 \n",
    "* Model\n",
    "    * linear\n",
    "    * sigmoid\n",
    "    * loss : BCELoss\n",
    "    * optimizer : SGD\n",
    "* 預測\n",
    "    * 若預測值大於 0.5，則判斷為漲：小於 0.5，則判斷為跌。\n",
    "    * 最後結果：準確率有 8 成\n",
    "    "
   ]
  },
  {
   "cell_type": "code",
   "execution_count": 7,
   "metadata": {
    "scrolled": true
   },
   "outputs": [
    {
     "name": "stdout",
     "output_type": "stream",
     "text": [
      "Epoch 0, training loss: 0.7168531003205674, accurracy: 0.43249225320938467\n",
      "Epoch 1, training loss: 0.7064408608104871, accurracy: 0.47808764940239046\n",
      "Epoch 2, training loss: 0.6910846751669179, accurracy: 0.4997786631252767\n",
      "Epoch 3, training loss: 0.6727349084356556, accurracy: 0.6201859229747676\n",
      "Epoch 4, training loss: 0.6521001898724099, accurracy: 0.6131031429836211\n",
      "Epoch 5, training loss: 0.6324184122292891, accurracy: 0.6100044267374944\n",
      "Epoch 6, training loss: 0.6148104512173196, accurracy: 0.6042496679946879\n",
      "Epoch 7, training loss: 0.5996798328731371, accurracy: 0.6033643204957946\n",
      "Epoch 8, training loss: 0.5888978657515151, accurracy: 0.6024789729969012\n",
      "Epoch 9, training loss: 0.5787832957247029, accurracy: 0.6024789729969012\n",
      "Epoch 10, training loss: 0.5694913630900175, accurracy: 0.6024789729969012\n",
      "Epoch 11, training loss: 0.561777827532395, accurracy: 0.617087206728641\n",
      "Epoch 12, training loss: 0.5513678944629172, accurracy: 0.6281540504648074\n",
      "Epoch 13, training loss: 0.5436907760474994, accurracy: 0.6826029216467463\n",
      "Epoch 14, training loss: 0.5310399778511212, accurracy: 0.7189021691013723\n",
      "Epoch 15, training loss: 0.5225326405919117, accurracy: 0.7343957503320053\n",
      "Epoch 16, training loss: 0.5113384347894917, accurracy: 0.7459052678176185\n",
      "Epoch 17, training loss: 0.5007242469683937, accurracy: 0.7764497565294378\n",
      "Epoch 18, training loss: 0.49147791318271467, accurracy: 0.7835325365205843\n",
      "Epoch 19, training loss: 0.481895870488623, accurracy: 0.7915006640106241\n",
      "Epoch 20, training loss: 0.4726140499114991, accurracy: 0.7923860115095175\n",
      "Epoch 21, training loss: 0.46978293164916657, accurracy: 0.7937140327578575\n",
      "Epoch 22, training loss: 0.4698959887027741, accurracy: 0.8003541389995573\n",
      "Epoch 23, training loss: 0.47076045689375506, accurracy: 0.8007968127490039\n",
      "Epoch 24, training loss: 0.4696517625580664, accurracy: 0.8065515714918106\n",
      "Epoch 25, training loss: 0.47557922031568445, accurracy: 0.8025675077467906\n",
      "Epoch 26, training loss: 0.4843371691911117, accurracy: 0.7941567065073041\n",
      "Epoch 27, training loss: 0.48865349007689435, accurracy: 0.7976980965028774\n",
      "Epoch 28, training loss: 0.5006209508232449, accurracy: 0.8003541389995573\n",
      "Epoch 29, training loss: 0.5041160168855087, accurracy: 0.7976980965028774\n",
      "Epoch 30, training loss: 0.5178794886754906, accurracy: 0.8003541389995573\n",
      "Epoch 31, training loss: 0.5250192427116891, accurracy: 0.8016821602478973\n",
      "Epoch 32, training loss: 0.5266103018885073, accurracy: 0.8016821602478973\n",
      "Epoch 33, training loss: 0.535350156866986, accurracy: 0.8061088977423638\n",
      "Epoch 34, training loss: 0.5422826163146807, accurracy: 0.8061088977423638\n",
      "Epoch 35, training loss: 0.5503053030242091, accurracy: 0.8061088977423638\n",
      "Epoch 36, training loss: 0.5471276796382406, accurracy: 0.8061088977423638\n",
      "Epoch 37, training loss: 0.551633364480475, accurracy: 0.8078795927401505\n",
      "Epoch 38, training loss: 0.5525400029576344, accurracy: 0.8087649402390438\n",
      "Epoch 39, training loss: 0.5524348953495856, accurracy: 0.8096502877379371\n",
      "Epoch 40, training loss: 0.5526261977527452, accurracy: 0.8092076139884905\n",
      "Epoch 41, training loss: 0.5552255601986594, accurracy: 0.8189464364763169\n",
      "Epoch 42, training loss: 0.5597102408823761, accurracy: 0.8180610889774237\n",
      "Epoch 43, training loss: 0.5552860213362651, accurracy: 0.8180610889774237\n",
      "Epoch 44, training loss: 0.5554066313349681, accurracy: 0.8198317839752103\n",
      "Epoch 45, training loss: 0.5649222809335461, accurracy: 0.8207171314741036\n",
      "Epoch 46, training loss: 0.5664951308913854, accurracy: 0.8207171314741036\n",
      "Epoch 47, training loss: 0.5667526087035303, accurracy: 0.8255865427180168\n",
      "Epoch 48, training loss: 0.5695955856986666, accurracy: 0.8260292164674635\n",
      "Epoch 49, training loss: 0.5722214709157528, accurracy: 0.8260292164674635\n",
      "Epoch 50, training loss: 0.5733055148435674, accurracy: 0.8255865427180168\n",
      "Epoch 51, training loss: 0.5774121737998466, accurracy: 0.8286852589641435\n",
      "Epoch 52, training loss: 0.5761367231607437, accurracy: 0.8286852589641435\n",
      "Epoch 53, training loss: 0.5867075103780497, accurracy: 0.8308986277113767\n",
      "Epoch 54, training loss: 0.5906041160873744, accurracy: 0.8326693227091634\n",
      "Epoch 55, training loss: 0.5939776845600294, accurracy: 0.8335546702080566\n",
      "Epoch 56, training loss: 0.5973297020663385, accurracy: 0.8366533864541833\n",
      "Epoch 57, training loss: 0.5960164497727933, accurracy: 0.8366533864541833\n",
      "Epoch 58, training loss: 0.5966830681199612, accurracy: 0.8366533864541833\n",
      "Epoch 59, training loss: 0.5968492951082145, accurracy: 0.8366533864541833\n"
     ]
    }
   ],
   "source": [
    "# 驗證\n",
    "\n",
    "batch_size = 100                         # 設定每次抽樣的數量\n",
    "n_epoch = 60                              # 設定資料集總訓練次數\n",
    "\n",
    "from torch.utils.data import TensorDataset\n",
    "from torch.utils.data import DataLoader # 匯入資料集抽樣工具\n",
    "\n",
    "class Logistic(nn.Module):\n",
    "    def __init__(self):\n",
    "        super(Logistic, self).__init__()\n",
    "        self.linear = nn.Linear(8,1)\n",
    "        \n",
    "    def forward(self, x):\n",
    "        pred_y = sigmoid(self.linear(x))\n",
    "        return pred_y\n",
    "\n",
    "## train data\n",
    "train_dataset = TensorDataset(train_x,train_y)\n",
    "train_data_loader = DataLoader(            # 創造 DataLoader 實例\n",
    "    train_dataset,                         # 對資料集 train_dataset 進行抽樣\n",
    "    batch_size=batch_size,                 # 設定每次抽樣的數量\n",
    "    shuffle=True,                          # 設定隨機抽樣\n",
    ")\n",
    "## test data\n",
    "test_dataset = TensorDataset(test_x,test_y)\n",
    "test_data_loader = DataLoader(          # 創造 DataLoader 實例\n",
    "    test_dataset,                       # 對資料集 test_dataset 進行抽樣\n",
    "    batch_size=batch_size,              # 設定每次抽樣的數量\n",
    "    shuffle=True,                       # 設定隨機抽樣\n",
    ")\n",
    "    \n",
    "logistic = Logistic()\n",
    "criterion = nn.BCELoss(reduction='mean')\n",
    "optimizer = optim.SGD(logistic.parameters(),lr=0.0001)\n",
    "total = train_x.size()[0]               # 共有多少筆訓練資料:2259筆\n",
    "\n",
    "for epoch in range(n_epoch):            # 總共訓練 n_epoch 次\n",
    "    for batch_x, batch_y in train_data_loader:\n",
    "        \n",
    "        pred_y = logistic(batch_x.float())         # 自動呼叫 forward 計算 batch_x 得到 pred_y\n",
    "        loss = criterion(pred_y,        # 計算 pred_y 與 batch_y 的均方誤差\n",
    "                         batch_y.float())\n",
    "        \n",
    "        loss.backward()                 # 使用向後傳播計算梯度\n",
    "        optimizer.step()                # 使用梯度下降更新模型參數\n",
    "    \n",
    "    with torch.no_grad():               # 此區塊不會計算梯度\n",
    "        total_loss = 0                  # 統計訓練資料誤差\n",
    "        total_acc = 0                   # 統計準確個數\n",
    "        for batch_x, batch_y in train_data_loader:\n",
    "            \n",
    "            pred_y = logistic(batch_x.float())\n",
    "            loss = criterion(pred_y, batch_y.float())\n",
    "            \n",
    "            total_loss += float(loss) / len(train_data_loader)\n",
    "            mask=(pred_y>0.5)\n",
    "            correct=(mask==batch_y)\n",
    "            total_acc+=correct[correct==True].size()[0]\n",
    "        \n",
    "        print('Epoch {}, training loss: {}, accurracy: {}'.format(epoch, total_loss, total_acc/total))\n",
    "        "
   ]
  },
  {
   "cell_type": "code",
   "execution_count": 8,
   "metadata": {},
   "outputs": [
    {
     "data": {
      "text/plain": [
       "<All keys matched successfully>"
      ]
     },
     "execution_count": 8,
     "metadata": {},
     "output_type": "execute_result"
    }
   ],
   "source": [
    "# 儲存 & 載入模型\n",
    "\n",
    "# torch.save(logistic.state_dict(), './data/logistic.ckpt')    # 儲存模型參數\n",
    "logistic.load_state_dict(torch.load('./data/logistic.ckpt')) # 載入模型參數"
   ]
  },
  {
   "cell_type": "code",
   "execution_count": 9,
   "metadata": {},
   "outputs": [
    {
     "data": {
      "image/png": "[encoded data removed]",
      "text/plain": [
       "<Figure size 432x288 with 1 Axes>"
      ]
     },
     "metadata": {
      "needs_background": "light"
     },
     "output_type": "display_data"
    },
    {
     "name": "stdout",
     "output_type": "stream",
     "text": [
      " testing accurracy: 0.8906882591093117\n"
     ]
    }
   ],
   "source": [
    "total_acc = 0                   # 統計準確個數\n",
    "total_test = test_x.size()[0]   # 共有多少筆訓練資料\n",
    "\n",
    "with torch.no_grad():\n",
    "    for batch_x, batch_y in test_data_loader:\n",
    "\n",
    "        pred_y = logistic(batch_x.float())\n",
    "\n",
    "        mask=(pred_y>0.5)\n",
    "        correct=(mask==batch_y)\n",
    "        total_acc+=correct[correct==True].size()[0]\n",
    "        plt.scatter(np.arange(batch_y.size()[0]), batch_y, color='red') # 畫出訓練資料答案分佈\n",
    "        plt.scatter(np.arange(pred_y.size()[0]), pred_y, color='blue') # 畫出訓練資料預測分佈\n",
    "\n",
    "    plt.title('Testing data performance')\n",
    "    plt.show()\n",
    "\n",
    "    print(' testing accurracy: {}'.format(total_acc/total_test))"
   ]
  },
  {
   "cell_type": "markdown",
   "metadata": {},
   "source": [
    "## Neural Network\n",
    "* epoch 數: 60 次\n",
    "* batch_size : 100 \n",
    "* Model\n",
    "    * linear\n",
    "    * sigmoid\n",
    "    * loss : MSELoss\n",
    "    * optimizer : SGD\n",
    "* 預測"
   ]
  },
  {
   "cell_type": "code",
   "execution_count": 10,
   "metadata": {},
   "outputs": [
    {
     "name": "stdout",
     "output_type": "stream",
     "text": [
      "Epoch 0, training loss: 0.5072068831195002, accurracy: 0.4019477644975653\n",
      "Epoch 1, training loss: 0.35283919650575396, accurracy: 0.4019477644975653\n",
      "Epoch 2, training loss: 0.2204976114241973, accurracy: 0.6927844178840195\n",
      "Epoch 3, training loss: 0.21947243032248123, accurracy: 0.6414342629482072\n",
      "Epoch 4, training loss: 0.3601100341133449, accurracy: 0.5980522355024347\n",
      "Epoch 5, training loss: 0.4823257067929144, accurracy: 0.5980522355024347\n",
      "Epoch 6, training loss: 0.42405786203301465, accurracy: 0.5980522355024347\n",
      "Epoch 7, training loss: 0.27501729130744934, accurracy: 0.6077910579902612\n",
      "Epoch 8, training loss: 0.20753588883773139, accurracy: 0.6308100929614874\n",
      "Epoch 9, training loss: 0.23230413703814803, accurracy: 0.5635236830455954\n",
      "Epoch 10, training loss: 0.29153769301331556, accurracy: 0.40903054448871184\n",
      "Epoch 11, training loss: 0.3436338227728139, accurracy: 0.4019477644975653\n",
      "Epoch 12, training loss: 0.34823399393454835, accurracy: 0.4019477644975653\n",
      "Epoch 13, training loss: 0.32199714365212806, accurracy: 0.4019477644975653\n",
      "Epoch 14, training loss: 0.2899686085141223, accurracy: 0.4019477644975653\n",
      "Epoch 15, training loss: 0.2597357915795368, accurracy: 0.399734395750332\n",
      "Epoch 16, training loss: 0.24163143725498865, accurracy: 0.5980522355024347\n",
      "Epoch 17, training loss: 0.24287674025349, accurracy: 0.5980522355024347\n",
      "Epoch 18, training loss: 0.2644862215156141, accurracy: 0.5980522355024347\n",
      "Epoch 19, training loss: 0.29660137516001006, accurracy: 0.5980522355024347\n",
      "Epoch 20, training loss: 0.3246872373249219, accurracy: 0.5980522355024347\n",
      "Epoch 21, training loss: 0.3391263821850652, accurracy: 0.5980522355024347\n",
      "Epoch 22, training loss: 0.3343761990899625, accurracy: 0.5980522355024347\n",
      "Epoch 23, training loss: 0.30952397507169976, accurracy: 0.5980522355024347\n",
      "Epoch 24, training loss: 0.27624283212682466, accurracy: 0.5980522355024347\n",
      "Epoch 25, training loss: 0.24981856734856311, accurracy: 0.5980522355024347\n",
      "Epoch 26, training loss: 0.23897397388582647, accurracy: 0.5980522355024347\n",
      "Epoch 27, training loss: 0.24861331867135086, accurracy: 0.45683930942895085\n",
      "Epoch 28, training loss: 0.27492245643035224, accurracy: 0.4019477644975653\n",
      "Epoch 29, training loss: 0.30813207444937335, accurracy: 0.4019477644975653\n",
      "Epoch 30, training loss: 0.3321780873381574, accurracy: 0.4019477644975653\n",
      "Epoch 31, training loss: 0.33913848322370777, accurracy: 0.4019477644975653\n",
      "Epoch 32, training loss: 0.32625028231869574, accurracy: 0.4019477644975653\n",
      "Epoch 33, training loss: 0.29836332020552264, accurracy: 0.4019477644975653\n",
      "Epoch 34, training loss: 0.26580350424932403, accurracy: 0.4019477644975653\n",
      "Epoch 35, training loss: 0.24287128124548035, accurracy: 0.6117751217352811\n",
      "Epoch 36, training loss: 0.23860762171123343, accurracy: 0.5980522355024347\n",
      "Epoch 37, training loss: 0.2550235921921937, accurracy: 0.5980522355024347\n",
      "Epoch 38, training loss: 0.28423022187274427, accurracy: 0.5980522355024347\n",
      "Epoch 39, training loss: 0.31603083532789467, accurracy: 0.5980522355024347\n",
      "Epoch 40, training loss: 0.3340427162854568, accurracy: 0.5980522355024347\n",
      "Epoch 41, training loss: 0.3348620980978012, accurracy: 0.5980522355024347\n",
      "Epoch 42, training loss: 0.3139057386180629, accurracy: 0.5980522355024347\n",
      "Epoch 43, training loss: 0.28281332358070044, accurracy: 0.5980522355024347\n",
      "Epoch 44, training loss: 0.25088761487732764, accurracy: 0.5980522355024347\n",
      "Epoch 45, training loss: 0.23162732046583426, accurracy: 0.6100044267374944\n",
      "Epoch 46, training loss: 0.23426340002080667, accurracy: 0.6989818503762727\n",
      "Epoch 47, training loss: 0.2570947985286298, accurracy: 0.40548915449313855\n",
      "Epoch 48, training loss: 0.29038350608037866, accurracy: 0.4019477644975653\n",
      "Epoch 49, training loss: 0.31853949764500494, accurracy: 0.4019477644975653\n",
      "Epoch 50, training loss: 0.3292351054108661, accurracy: 0.4019477644975653\n",
      "Epoch 51, training loss: 0.312376021043114, accurracy: 0.4019477644975653\n",
      "Epoch 52, training loss: 0.27607157437697705, accurracy: 0.4019477644975653\n",
      "Epoch 53, training loss: 0.23596464551013452, accurracy: 0.5559982293050022\n",
      "Epoch 54, training loss: 0.2089651712904806, accurracy: 0.7268702965914121\n",
      "Epoch 55, training loss: 0.20498011811919836, accurracy: 0.6963258078795928\n",
      "Epoch 56, training loss: 0.22406957071760428, accurracy: 0.6148738379814077\n",
      "Epoch 57, training loss: 0.25381293828072754, accurracy: 0.6100044267374944\n",
      "Epoch 58, training loss: 0.2752238278803618, accurracy: 0.6073483842408145\n",
      "Epoch 59, training loss: 0.279189909281938, accurracy: 0.6100044267374944\n"
     ]
    }
   ],
   "source": [
    "# 建立模型\n",
    "import torch.nn as nn                   # 匯入神經網路模型\n",
    "import torch.nn.functional as F         # 匯入激發函數\n",
    "\n",
    "class MyModel(nn.Module):               # 模型需要繼承自 nn.Module\n",
    "    def __init__(self,                  # 定義模型結構\n",
    "                 in_dim,                # 定義輸入層維度\n",
    "                 hid_dim,               # 定義隱藏層維度\n",
    "                 out_dim):              # 定義輸出層維度\n",
    "\n",
    "        super(MyModel, self).__init__() # 繼承 nn.Module 所有屬性\n",
    "        \n",
    "        self.layer1 = nn.Linear(        # 創造線性層 self.layer1\n",
    "            in_features=in_dim,         # 設定線性層輸入維度\n",
    "            out_features=hid_dim        # 設定線性層輸出維度\n",
    "        )\n",
    "        self.layer2 = nn.Linear(        # 創造線性層 self.layer2\n",
    "            in_features=hid_dim,        # 設定線性層輸入維度\n",
    "            out_features=out_dim        # 設定線性層輸出維度\n",
    "        )\n",
    "        \n",
    "    def forward(self, batch_x):         # 定義運算流程\n",
    "        h = self.layer1(batch_x)        # 使用線性層 self.layer1 輸入 batch_x 計算得到 h\n",
    "        a = F.relu(h)                   # 使用 ReLU 激發函數輸入 h 得到 a\n",
    "        y = self.layer2(a)              # 使用線性層 self.layer2 輸入 a 計算得到 y\n",
    "        return y                        # 輸出 y\n",
    "    \n",
    "# 訓練\n",
    "batch_size = 100                        # 設定每次抽樣的數量\n",
    "n_epoch = 60                           # 設定資料集總訓練次數\n",
    "hid_dim = 10                            # 設定隱藏層維度\n",
    "\n",
    "model = MyModel(                        # 創造 MyModel 模型實例\n",
    "    in_dim=8,                           # 設定輸入層維度\n",
    "    hid_dim=hid_dim,                    # 設定隱藏層維度\n",
    "    out_dim=1                           # 設定輸出層維度\n",
    ")\n",
    "\n",
    "criterion = nn.MSELoss()                # 創造均方誤差計算工具\n",
    "\n",
    "optimizer = optim.SGD(                        # 創造計算隨機梯度下降的工具\n",
    "    model.parameters(),                 # 設定計算梯度下降的目標\n",
    "    lr=0.0001                           # 設定學習率\n",
    ")\n",
    "\n",
    "total = train_x.size()[0]               # 共有多少筆訓練資料:2259筆\n",
    "\n",
    "for epoch in range(n_epoch):            # 總共訓練 n_epoch 次\n",
    "    for batch_x, batch_y in train_data_loader:\n",
    "        \n",
    "        pred_y = model(batch_x.float())         # 自動呼叫 forward 計算 batch_x 得到 pred_y\n",
    "        loss = criterion(pred_y,        # 計算 pred_y 與 batch_y 的均方誤差\n",
    "                         batch_y.float())\n",
    "        \n",
    "        loss.backward()                 # 使用向後傳播計算梯度\n",
    "        optimizer.step()                # 使用梯度下降更新模型參數\n",
    "    \n",
    "    with torch.no_grad():               # 此區塊不會計算梯度\n",
    "        total_loss = 0                  # 統計訓練資料誤差\n",
    "        total_acc = 0                   # 統計準確個數\n",
    "        for batch_x, batch_y in train_data_loader:\n",
    "            \n",
    "            pred_y = model(batch_x.float())\n",
    "            loss = criterion(pred_y, batch_y.float())\n",
    "            \n",
    "            total_loss += float(loss) / len(train_data_loader)\n",
    "            mask=(pred_y>0.5)\n",
    "            correct=(mask==batch_y)\n",
    "            total_acc+=correct[correct==True].size()[0]\n",
    "            \n",
    "        print('Epoch {}, training loss: {}, accurracy: {}'.format(epoch, total_loss, total_acc/total))\n",
    "    "
   ]
  },
  {
   "cell_type": "code",
   "execution_count": 11,
   "metadata": {},
   "outputs": [
    {
     "data": {
      "text/plain": [
       "<All keys matched successfully>"
      ]
     },
     "execution_count": 11,
     "metadata": {},
     "output_type": "execute_result"
    }
   ],
   "source": [
    "# 儲存 & 載入模型\n",
    "\n",
    "# torch.save(model.state_dict(), './data/model.ckpt')    # 儲存模型參數\n",
    "model.load_state_dict(torch.load('./data/model.ckpt')) # 載入模型參數"
   ]
  },
  {
   "cell_type": "code",
   "execution_count": 12,
   "metadata": {},
   "outputs": [
    {
     "data": {
      "image/png": "[encoded data removed]",
      "text/plain": [
       "<Figure size 432x288 with 1 Axes>"
      ]
     },
     "metadata": {
      "needs_background": "light"
     },
     "output_type": "display_data"
    },
    {
     "name": "stdout",
     "output_type": "stream",
     "text": [
      " testing accurracy: 0.8987854251012146\n"
     ]
    }
   ],
   "source": [
    "total_acc = 0                   # 統計準確個數\n",
    "total_test = test_x.size()[0]   # 共有多少筆訓練資料\n",
    "\n",
    "with torch.no_grad():\n",
    "    for batch_x, batch_y in test_data_loader:\n",
    "\n",
    "        pred_y = model(batch_x.float())\n",
    "\n",
    "        mask=(pred_y>0.5)\n",
    "        correct=(mask==batch_y)\n",
    "        total_acc+=correct[correct==True].size()[0]\n",
    "        plt.scatter(np.arange(batch_y.size()[0]), batch_y, color='red') # 畫出訓練資料答案分佈\n",
    "        plt.scatter(np.arange(pred_y.size()[0]), pred_y, color='blue') # 畫出訓練資料預測分佈\n",
    "\n",
    "    plt.title('Testing data performance')\n",
    "    plt.show()\n",
    "\n",
    "    print(' testing accurracy: {}'.format(total_acc/total_test))"
   ]
  },
  {
   "cell_type": "markdown",
   "metadata": {},
   "source": [
    "## 決策樹"
   ]
  },
  {
   "cell_type": "code",
   "execution_count": 13,
   "metadata": {},
   "outputs": [
    {
     "name": "stdout",
     "output_type": "stream",
     "text": [
      "training accuracy: 0.8543603364320496\n",
      "testing accuracy: 0.8785425101214575\n"
     ]
    }
   ],
   "source": [
    "from sklearn.tree import DecisionTreeClassifier   # 匯入決策樹模型\n",
    "from sklearn.metrics import accuracy_score        # 匯入準確度計算工具\n",
    "\n",
    "tree = DecisionTreeClassifier(random_state=1012) # 創造決策樹模型\n",
    "tree.fit(train_x, train_y)                       # 訓練決策樹模型\n",
    "\n",
    "pred_y = tree.predict(train_x)                   # 確認模型是否訓練成功\n",
    "acc = accuracy_score(train_y, pred_y)             # 計算準確度\n",
    "\n",
    "print('training accuracy: {}'.format(acc))                 # 輸出準確度\n",
    "\n",
    "pred_y = tree.predict(test_x)                   # 確認模型是否訓練成功\n",
    "acc = accuracy_score(test_y, pred_y)             # 計算準確度\n",
    "\n",
    "print('testing accuracy: {}'.format(acc))                 # 輸出準確度"
   ]
  },
  {
   "cell_type": "markdown",
   "metadata": {},
   "source": [
    "## 討論\n",
    "* nn model 有較高的 accuracy，但 LR model 也很接近，我認為是因為訓練和測試資料的整梯趨勢是往上增長的，若相鄰的天數大多是漲，則預測目標有有很大的機率會預測準確（預測漲）。\n",
    "* 有可能 dataset 不一樣會造成結果不同，如果依照我訓練模型的情況，若四天中一下漲一下跌，很優可能會誤判。\n",
    "* 一開始我只丟一天的冊資，發現結果不佳（約五十幾趴），後來丟多天的input，accurracy 有上升。\n",
    "* sigmoid 的加入也能提升 accurracy。"
   ]
  },
  {
   "cell_type": "code",
   "execution_count": null,
   "metadata": {},
   "outputs": [],
   "source": []
  }
 ],
 "metadata": {
  "kernelspec": {
   "display_name": "Python 3",
   "language": "python",
   "name": "python3"
  },
  "language_info": {
   "codemirror_mode": {
    "name": "ipython",
    "version": 3
   },
   "file_extension": ".py",
   "mimetype": "text/x-python",
   "name": "python",
   "nbconvert_exporter": "python",
   "pygments_lexer": "ipython3",
   "version": "3.7.3"
  }
 },
 "nbformat": 4,
 "nbformat_minor": 4
}
